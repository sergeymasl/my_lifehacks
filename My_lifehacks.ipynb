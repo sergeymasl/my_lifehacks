{
  "nbformat": 4,
  "nbformat_minor": 0,
  "metadata": {
    "colab": {
      "name": "My_lifehacks",
      "provenance": [],
      "authorship_tag": "ABX9TyO9y5Szq5bfZwH8M7hpn6zN",
      "include_colab_link": true
    },
    "kernelspec": {
      "name": "python3",
      "display_name": "Python 3"
    },
    "language_info": {
      "name": "python"
    }
  },
  "cells": [
    {
      "cell_type": "markdown",
      "metadata": {
        "id": "view-in-github",
        "colab_type": "text"
      },
      "source": [
        "<a href=\"https://colab.research.google.com/github/sergeymasl/my_lifehacks/blob/main/My_lifehacks.ipynb\" target=\"_parent\"><img src=\"https://colab.research.google.com/assets/colab-badge.svg\" alt=\"Open In Colab\"/></a>"
      ]
    },
    {
      "cell_type": "markdown",
      "metadata": {
        "id": "fEzk4kToAIs-"
      },
      "source": [
        "Шпаргалка по [pandas](https://habr.com/ru/company/ruvds/blog/494720/)\n",
        "\n",
        "---\n",
        "\n"
      ]
    },
    {
      "cell_type": "markdown",
      "source": [
        "Отправка датафрейма на почту в удобоваримом виде\n",
        "\n",
        "[Ссылка на отправку простой почты](https://habr.com/ru/company/pechkin/blog/281915/)\n",
        "\n",
        "\n",
        "[Объекты email.mime](https://digitology.tech/docs/python_3/library/email.mime.html)\n",
        "\n",
        "\n",
        "\n",
        "---\n",
        "\n"
      ],
      "metadata": {
        "id": "pyHiZeajAkON"
      }
    },
    {
      "cell_type": "code",
      "source": [
        "import smtplib\n",
        "from email.mime.text import MIMEText\n",
        "from email.mime.multipart import MIMEMultipart\n",
        "\n",
        "# датафрейм в виде HTML страницы\n",
        "send = f\"\"\"\\\n",
        "    <html>\n",
        "      <head></head>\n",
        "      <body>\n",
        "        {df.to_html()}\n",
        "      </body>\n",
        "    </html>\n",
        "    \"\"\"\n",
        "# создание объекта mime\n",
        "msg = MIMEMultipart()\n",
        "# создание самого сообщения\n",
        "part = MIMEText(send, 'html')\n",
        "# прикрепление сообщения к объекту\n",
        "msg.attach(part)\n",
        "\n",
        "# подключение к серверу электронной почты. yandex \n",
        "smtpObj = smtplib.SMTP('smtp.yandex.ru', 587)\n",
        "# шифрование\n",
        "smtpObj.starttls()\n",
        "# авторизация\n",
        "smtpObj.login('stepikairflowcourse@yandex.ru','123456aA-')\n",
        "# отправка сообщения\n",
        "smtpObj.sendmail('stepikairflowcourse@yandex.ru','stepikairflowcourse@yandex.ru', msg.as_string())\n",
        "smtpObj.quit()"
      ],
      "metadata": {
        "id": "hsXXdvjGAkga"
      },
      "execution_count": null,
      "outputs": []
    },
    {
      "cell_type": "markdown",
      "source": [
        "Добавление столбца с датой и временем добавления строки\n",
        "\n",
        "---\n"
      ],
      "metadata": {
        "id": "VzdKfEMBla3q"
      }
    },
    {
      "cell_type": "code",
      "source": [
        "data[\"insert_time\"] = pd.to_datetime(\"now\")"
      ],
      "metadata": {
        "id": "cSYONep_lRKk"
      },
      "execution_count": null,
      "outputs": []
    },
    {
      "cell_type": "markdown",
      "source": [
        "[Поиск](https://habr.com/ru/post/470938/) в Яндексе и работа с веббраузером\n",
        "\n",
        "\n",
        "---\n",
        "\n"
      ],
      "metadata": {
        "id": "8u6Ns41x8GvQ"
      }
    },
    {
      "cell_type": "code",
      "source": [
        "str_search = 'https://yandex.ru/search/?text=' + input()\n",
        "webbrowser.open(str_search, new=2)"
      ],
      "metadata": {
        "id": "cpwoo8dA8PwG"
      },
      "execution_count": null,
      "outputs": []
    },
    {
      "cell_type": "markdown",
      "source": [
        "Вызов переменной в строке\n",
        "\n",
        "---"
      ],
      "metadata": {
        "id": "bq_LJFetR4R8"
      }
    },
    {
      "cell_type": "code",
      "source": [
        "g = 'fuck'\n",
        "print(f'Hey i can do this {g}')\n",
        "print('Hey {0} can do {1} {2}'.format('i', 'this', 'fuck'))"
      ],
      "metadata": {
        "id": "5m_LpWXIR31M",
        "colab": {
          "base_uri": "https://localhost:8080/"
        },
        "outputId": "055d6b6a-8cc1-4219-bc1e-dcf01f67275d"
      },
      "execution_count": null,
      "outputs": [
        {
          "output_type": "stream",
          "name": "stdout",
          "text": [
            "Hey i can do this fuck\n",
            "Hey i can do this fuck\n"
          ]
        }
      ]
    },
    {
      "cell_type": "markdown",
      "source": [
        "[Работа с исключениями](https://pythonworld.ru/tipy-dannyx-v-python/isklyucheniya-v-python-konstrukciya-try-except-dlya-obrabotki-isklyuchenij.html) сон программы и условие по повторению итерации цикла\n",
        "\n",
        "---\n"
      ],
      "metadata": {
        "id": "-e5al985Rcmc"
      }
    },
    {
      "cell_type": "code",
      "source": [
        "for i in range(df.shape[0]):\n",
        "    # цикл заставляющий повторить итерацию, если будет ошибка, гениально\n",
        "    successful = False\n",
        "    while not successful:\n",
        "        # работа с исключениями\n",
        "        try:\n",
        "            inn = df.loc[i, 'inn']\n",
        "            df.loc[i, 'result'] = str(dadata.find_by_id(\"party\", \"7707083893\"))\n",
        "        except Exception:\n",
        "            print('oshibca, epta')\n",
        "            time.sleep(1)\n",
        "            successful = True"
      ],
      "metadata": {
        "id": "MF3aaXxVRb9c"
      },
      "execution_count": null,
      "outputs": []
    },
    {
      "cell_type": "markdown",
      "source": [
        "Стандартная библиотека [glob](https://pythonworld.ru/moduli/modul-glob.html) позволяющая проверять некий каталог на наличие файлов с спецсимволами"
      ],
      "metadata": {
        "id": "jF6BxSCijDcP"
      }
    },
    {
      "cell_type": "code",
      "source": [
        "for file in glob.glob(\"source/*[.]xlsx\"):\n",
        "    print(str(file))\n",
        "\n",
        "# вывод\n",
        "# source\\магнит_ттн_мясная_гастр_0122.xlsx\n",
        "# source\\магнит_ттн_мясная_гастр_0222.xlsx\n",
        "# source\\магнит_ттн_мясная_гастр_1221.xlsx"
      ],
      "metadata": {
        "id": "UqVrq0jbjCyA"
      },
      "execution_count": null,
      "outputs": []
    },
    {
      "cell_type": "markdown",
      "source": [
        "Проверка на NaN\n",
        "\n",
        "---\n",
        "\n",
        "\n"
      ],
      "metadata": {
        "id": "SgZCTChvkiQZ"
      }
    },
    {
      "cell_type": "code",
      "source": [
        "g = np.nan\n",
        "g == g"
      ],
      "metadata": {
        "id": "KdPNcpzckf5p"
      },
      "execution_count": null,
      "outputs": []
    },
    {
      "cell_type": "markdown",
      "metadata": {
        "id": "XDQjOWTFdnpi"
      },
      "source": [
        "Преобразование строки даты в формат [datetime](https://pythonru.com/primery/kak-ispolzovat-modul-datetime-v-python), а потом преобразование в year\n",
        "\n",
        "---\n",
        "\n"
      ]
    },
    {
      "cell_type": "code",
      "metadata": {
        "id": "36gOknqPdlKa"
      },
      "source": [
        "#преобразуем строку в объект datetime\n",
        "d = datetime.datetime.strptime('2010-12-01 08:26:00', '%Y-%m-%d %H:%M:%S')\n",
        "print(d.year)\n",
        "# 2010\n",
        "#создать новый солбец с неделями из объекта datetime\n",
        "df['week'] = df['date'].apply(lambda x: dt.date.isocalendar(x)[1])"
      ],
      "execution_count": null,
      "outputs": []
    },
    {
      "cell_type": "markdown",
      "metadata": {
        "id": "IEOJun6oViWW"
      },
      "source": [
        "Использование функции [map()](https://www.digitalocean.com/community/tutorials/how-to-use-the-python-map-function-ru) (приминение какой либо функции ко всему итерируемому объекту)\n",
        "\n",
        "---\n",
        "\n"
      ]
    },
    {
      "cell_type": "code",
      "metadata": {
        "id": "yHvAHycGVhvD"
      },
      "source": [
        "for name in df.columns:\n",
        "  if len(name) == (min(map(len, df.columns))):\n",
        "    print(name)\n",
        "# Country\n",
        "\n",
        "lis = list(map(len, df.columns))\n",
        "print(lis)\n",
        "# [9, 9, 11, 8, 11, 9, 10, 7]"
      ],
      "execution_count": null,
      "outputs": []
    },
    {
      "cell_type": "markdown",
      "metadata": {
        "id": "67I10V7A_Upg"
      },
      "source": [
        "Для уменьшения количества занимаемо памяти можно изменить [тип данных](https://numba.pydata.org/numba-doc/0.12/tutorial_types.html#:~:text=is%20not%20exahustive.-,Integral%20types,-%C2%B6) на тип данных который занимает меньше битов\n",
        "\n",
        "\n",
        "---\n",
        "\n"
      ]
    },
    {
      "cell_type": "code",
      "metadata": {
        "id": "dB6YdUFW_RzZ"
      },
      "source": [
        "map_column_to_type = {\n",
        "    'category_id': np.int16,\n",
        "    'item_nds_rate': np.int16,\n",
        "    'item_price': np.int16,\n",
        "    'item_quantity': np.float32,\n",
        "    'receipt_dayofweek': np.int16,\n",
        "    'receipt_id': np.int32}"
      ],
      "execution_count": null,
      "outputs": []
    },
    {
      "cell_type": "markdown",
      "metadata": {
        "id": "Hu6CyS1J8J_g"
      },
      "source": [
        "Оконные функции в [DataFrame](https://dfedorov.spb.ru/pandas/%D0%9F%D0%BE%D0%BD%D0%B8%D0%BC%D0%B0%D0%BD%D0%B8%D0%B5%20%D1%84%D1%83%D0%BD%D0%BA%D1%86%D0%B8%D0%B8%20transform%20%D0%B2%20Pandas.html)\n",
        "\n",
        "\n",
        "---\n",
        "\n"
      ]
    },
    {
      "cell_type": "code",
      "metadata": {
        "id": "zYJFIjFg741q"
      },
      "source": [
        "df['col'] = df.groupby('col_1')['col_2'].transform('sum')"
      ],
      "execution_count": null,
      "outputs": []
    },
    {
      "cell_type": "markdown",
      "metadata": {
        "id": "G2iBxbie7rU_"
      },
      "source": [
        "Отображение времени выполнения \n",
        "\n",
        "---\n"
      ]
    },
    {
      "cell_type": "code",
      "metadata": {
        "id": "qZEnKiJN7gFd",
        "colab": {
          "base_uri": "https://localhost:8080/"
        },
        "outputId": "5997bf79-4899-4a97-c0c4-8693c2f8208a"
      },
      "source": [
        "%%time\n",
        "print('hello_world')"
      ],
      "execution_count": null,
      "outputs": [
        {
          "output_type": "stream",
          "name": "stdout",
          "text": [
            "hello_world\n",
            "CPU times: user 65 µs, sys: 15 µs, total: 80 µs\n",
            "Wall time: 85.4 µs\n"
          ]
        }
      ]
    },
    {
      "cell_type": "markdown",
      "metadata": {
        "id": "Zm3ImUHNPakj"
      },
      "source": [
        "Удаление NaN только в определенном столбце\n",
        "\n",
        "---\n",
        "\n"
      ]
    },
    {
      "cell_type": "code",
      "metadata": {
        "id": "lGcmqRW-PZHg"
      },
      "source": [
        "catalog.dropna(subset=['Выражения идентификаторы бренда'],inplace=True)"
      ],
      "execution_count": null,
      "outputs": []
    },
    {
      "cell_type": "markdown",
      "metadata": {
        "id": "WisZK8T3zj_e"
      },
      "source": [
        "Загрузка файлов в Colab из GitHub\n",
        "\n",
        "---\n",
        "\n"
      ]
    },
    {
      "cell_type": "markdown",
      "source": [
        "![image.png](data:image/png;base64,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)"
      ],
      "metadata": {
        "id": "m7gu9Etekdke"
      }
    },
    {
      "cell_type": "code",
      "metadata": {
        "id": "zmm1ofCFzhwx"
      },
      "source": [
        "url = 'https://raw.githubusercontent.com/dm-novikov/stepik_airflow_course/main/data_new/2021-01-01.csv'\n",
        "df1 = pd.read_csv(url)"
      ],
      "execution_count": null,
      "outputs": []
    },
    {
      "cell_type": "markdown",
      "metadata": {
        "id": "DM20pfN6ymob"
      },
      "source": [
        "Загрузка файлов в Colab с локального диска\n",
        "\n",
        "---\n",
        "\n"
      ]
    },
    {
      "cell_type": "code",
      "metadata": {
        "id": "7GwJhvv0ylnY"
      },
      "source": [
        "from google.colab import files\n",
        "uploaded = files.upload()\n",
        "\n",
        "df = pd.read_csv('wage-data.csv')"
      ],
      "execution_count": null,
      "outputs": []
    },
    {
      "cell_type": "markdown",
      "metadata": {
        "id": "62_EGkq_XGU8"
      },
      "source": [
        "Включение всплывающих команд в Jupiter с помощью Tab\n",
        "\n",
        "---\n",
        "\n"
      ]
    },
    {
      "cell_type": "code",
      "metadata": {
        "id": "OrcxHfPMXFL5"
      },
      "source": [
        "%config IPCompleter.greedy=True"
      ],
      "execution_count": null,
      "outputs": []
    },
    {
      "cell_type": "markdown",
      "metadata": {
        "id": "15WwFKhFOjea"
      },
      "source": [
        "Считывание данных в датафрейм из Google Drive\n",
        "\n",
        "---\n",
        "\n"
      ]
    },
    {
      "cell_type": "code",
      "metadata": {
        "id": "HPvpLUPtONtL"
      },
      "source": [
        "url = 'https://drive.google.com/file/d/1imxbb6tU7wTnR0q1eGmy6N1qpf4grKdV/view?usp=sharing' #ссылка на файл(в Drive нужно открыть доступ для просмотра)\n",
        "path = 'https://drive.google.com/uc?export=download&id='+url.split('/')[-2]\n",
        "pd.read_csv(path)"
      ],
      "execution_count": null,
      "outputs": []
    },
    {
      "cell_type": "markdown",
      "metadata": {
        "id": "uzvygHuREOAB"
      },
      "source": [
        "Выгрузка данных на гугл диск\n",
        "\n",
        "---\n",
        "\n"
      ]
    },
    {
      "cell_type": "code",
      "metadata": {
        "id": "Cny58jWfERpZ"
      },
      "source": [
        "from google.colab import drive\n",
        "drive.mount('drive')\n",
        "df1.to_csv('data.csv',sep=';',)\n",
        "!cp data.csv \"drive/My Drive/\""
      ],
      "execution_count": null,
      "outputs": []
    },
    {
      "cell_type": "markdown",
      "metadata": {
        "id": "KayXc1aFEmJT"
      },
      "source": [
        "Названия столбцов таблицы базы данных PostreSQL\n",
        "\n",
        "---\n",
        "\n"
      ]
    },
    {
      "cell_type": "code",
      "metadata": {
        "id": "MaZElsbnElem"
      },
      "source": [
        "print('test_task_billing:')\n",
        "cursor.execute('''select * from information_schema.columns \n",
        "where table_catalog = 'wazzup_data_mart' and  \n",
        "table_name = 'test_task_billing';''')\n",
        "for row in cursor:\n",
        "  print (row)"
      ],
      "execution_count": null,
      "outputs": []
    },
    {
      "cell_type": "markdown",
      "metadata": {
        "id": "JEhERweAFivM"
      },
      "source": [
        "Совместная работа Python и SQL\n",
        "\n",
        "---\n",
        "\n"
      ]
    },
    {
      "cell_type": "code",
      "metadata": {
        "id": "QnsbomGEFjAA"
      },
      "source": [
        "import psycopg2\n",
        "conn = psycopg2.connect(\n",
        "    host='rc1c-fhrb9f1e0l9g611h.mdb.yandexcloud.net', port='6432', database='hr-analytics',\n",
        "    user='analytics', password='HRanalytics')\n",
        "cursor = conn.cursor()\n",
        "cursor.execute('''\n",
        "SELECT * FROM table\n",
        "''')\n",
        "list1 = []\n",
        "for row in cursor:\n",
        "  list1.append(row)\n",
        "df1 = DataFrame(list1, columns = ['Месяц', 'Год', 'Выручка'])\n",
        "(df1)"
      ],
      "execution_count": null,
      "outputs": []
    },
    {
      "cell_type": "markdown",
      "metadata": {
        "id": "qaD5PsKOCqE7"
      },
      "source": [
        "Транслитерация:\n",
        "\n",
        "[Справочная информация на русском](https://docs-python.ru/packages/modul-transliterate-python/)\n",
        "\n",
        "[Справочная информация и ссылки на загрузку](https://pypi.org/project/transliterate/)\n",
        "\n",
        "---\n",
        "\n"
      ]
    }
  ]
}