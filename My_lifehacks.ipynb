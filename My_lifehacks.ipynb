{
  "nbformat": 4,
  "nbformat_minor": 0,
  "metadata": {
    "colab": {
      "name": "My_lifehacks",
      "provenance": [],
      "authorship_tag": "ABX9TyPqkBqCyrGsx0DXVy9WP/D0",
      "include_colab_link": true
    },
    "kernelspec": {
      "name": "python3",
      "display_name": "Python 3"
    },
    "language_info": {
      "name": "python"
    }
  },
  "cells": [
    {
      "cell_type": "markdown",
      "metadata": {
        "id": "view-in-github",
        "colab_type": "text"
      },
      "source": [
        "<a href=\"https://colab.research.google.com/github/sergeymasl/my_lifehacks/blob/main/My_lifehacks.ipynb\" target=\"_parent\"><img src=\"https://colab.research.google.com/assets/colab-badge.svg\" alt=\"Open In Colab\"/></a>"
      ]
    },
    {
      "cell_type": "markdown",
      "metadata": {
        "id": "fEzk4kToAIs-"
      },
      "source": [
        "Шпаргалка по [pandas](https://habr.com/ru/company/ruvds/blog/494720/)\n",
        "\n",
        "---\n",
        "\n"
      ]
    },
    {
      "cell_type": "markdown",
      "source": [
        "[Поиск](https://habr.com/ru/post/470938/) в Яндексе и работа с веббраузером\n",
        "\n",
        "\n",
        "---\n",
        "\n"
      ],
      "metadata": {
        "id": "8u6Ns41x8GvQ"
      }
    },
    {
      "cell_type": "code",
      "source": [
        "str_search = 'https://yandex.ru/search/?text=' + input()\n",
        "webbrowser.open(str_search, new=2)"
      ],
      "metadata": {
        "id": "cpwoo8dA8PwG"
      },
      "execution_count": null,
      "outputs": []
    },
    {
      "cell_type": "markdown",
      "source": [
        "Проверка на NaN\n",
        "\n",
        "---\n",
        "\n",
        "\n"
      ],
      "metadata": {
        "id": "SgZCTChvkiQZ"
      }
    },
    {
      "cell_type": "code",
      "source": [
        "g = np.nan\n",
        "g == g"
      ],
      "metadata": {
        "id": "KdPNcpzckf5p"
      },
      "execution_count": null,
      "outputs": []
    },
    {
      "cell_type": "markdown",
      "metadata": {
        "id": "XDQjOWTFdnpi"
      },
      "source": [
        "Преобразование строки даты в формат [datetime](https://pythonru.com/primery/kak-ispolzovat-modul-datetime-v-python), а потом преобразование в year\n",
        "\n",
        "---\n",
        "\n"
      ]
    },
    {
      "cell_type": "code",
      "metadata": {
        "id": "36gOknqPdlKa"
      },
      "source": [
        "#преобразуем строку в объект datetime\n",
        "d = datetime.datetime.strptime('2010-12-01 08:26:00', '%Y-%m-%d %H:%M:%S')\n",
        "print(d.year)\n",
        "# 2010\n",
        "#создать новый солбец с неделями из объекта datetime\n",
        "df['week'] = df['date'].apply(lambda x: dt.date.isocalendar(x)[1])"
      ],
      "execution_count": null,
      "outputs": []
    },
    {
      "cell_type": "markdown",
      "metadata": {
        "id": "IEOJun6oViWW"
      },
      "source": [
        "Использование функции [map()](https://www.digitalocean.com/community/tutorials/how-to-use-the-python-map-function-ru) (приминение какой либо функции ко всему итерируемому объекту)\n",
        "\n",
        "---\n",
        "\n"
      ]
    },
    {
      "cell_type": "code",
      "metadata": {
        "id": "yHvAHycGVhvD"
      },
      "source": [
        "for name in df.columns:\n",
        "  if len(name) == (min(map(len, df.columns))):\n",
        "    print(name)\n",
        "# Country\n",
        "\n",
        "lis = list(map(len, df.columns))\n",
        "print(lis)\n",
        "# [9, 9, 11, 8, 11, 9, 10, 7]"
      ],
      "execution_count": null,
      "outputs": []
    },
    {
      "cell_type": "markdown",
      "metadata": {
        "id": "67I10V7A_Upg"
      },
      "source": [
        "Для уменьшения количества занимаемо памяти можно изменить [тип данных](https://numba.pydata.org/numba-doc/0.12/tutorial_types.html#:~:text=is%20not%20exahustive.-,Integral%20types,-%C2%B6) на тип данных который занимает меньше битов\n",
        "\n",
        "\n",
        "---\n",
        "\n"
      ]
    },
    {
      "cell_type": "code",
      "metadata": {
        "id": "dB6YdUFW_RzZ"
      },
      "source": [
        "map_column_to_type = {\n",
        "    'category_id': np.int16,\n",
        "    'item_nds_rate': np.int16,\n",
        "    'item_price': np.int16,\n",
        "    'item_quantity': np.float32,\n",
        "    'receipt_dayofweek': np.int16,\n",
        "    'receipt_id': np.int32}"
      ],
      "execution_count": null,
      "outputs": []
    },
    {
      "cell_type": "markdown",
      "metadata": {
        "id": "Hu6CyS1J8J_g"
      },
      "source": [
        "Оконные функции в [DataFrame](https://dfedorov.spb.ru/pandas/%D0%9F%D0%BE%D0%BD%D0%B8%D0%BC%D0%B0%D0%BD%D0%B8%D0%B5%20%D1%84%D1%83%D0%BD%D0%BA%D1%86%D0%B8%D0%B8%20transform%20%D0%B2%20Pandas.html)\n",
        "\n",
        "\n",
        "---\n",
        "\n"
      ]
    },
    {
      "cell_type": "code",
      "metadata": {
        "id": "zYJFIjFg741q"
      },
      "source": [
        "df['col'] = df.groupby('col_1')['col_2'].transform('sum')"
      ],
      "execution_count": null,
      "outputs": []
    },
    {
      "cell_type": "markdown",
      "metadata": {
        "id": "pWa2NByY9SD4"
      },
      "source": [
        "Экранирование специальных символов регулярных выражений в pattern c помощью билиотеки [re](https://tproger.ru/translations/regular-expression-python/)\\\n",
        "\n",
        "---\n"
      ]
    },
    {
      "cell_type": "code",
      "metadata": {
        "id": "gZBKHsu29ClH"
      },
      "source": [
        "import re\n",
        "g == g"
      ],
      "execution_count": null,
      "outputs": []
    },
    {
      "cell_type": "markdown",
      "metadata": {
        "id": "G2iBxbie7rU_"
      },
      "source": [
        "Отображение времени выполнения \n",
        "\n",
        "---\n"
      ]
    },
    {
      "cell_type": "code",
      "metadata": {
        "id": "qZEnKiJN7gFd",
        "colab": {
          "base_uri": "https://localhost:8080/"
        },
        "outputId": "5997bf79-4899-4a97-c0c4-8693c2f8208a"
      },
      "source": [
        "%%time\n",
        "print('hello_world')"
      ],
      "execution_count": null,
      "outputs": [
        {
          "output_type": "stream",
          "name": "stdout",
          "text": [
            "hello_world\n",
            "CPU times: user 65 µs, sys: 15 µs, total: 80 µs\n",
            "Wall time: 85.4 µs\n"
          ]
        }
      ]
    },
    {
      "cell_type": "markdown",
      "metadata": {
        "id": "Zm3ImUHNPakj"
      },
      "source": [
        "Удаление NaN только в определенном столбце\n",
        "\n",
        "---\n",
        "\n"
      ]
    },
    {
      "cell_type": "code",
      "metadata": {
        "id": "lGcmqRW-PZHg"
      },
      "source": [
        "catalog.dropna(subset=['Выражения идентификаторы бренда'],inplace=True)"
      ],
      "execution_count": null,
      "outputs": []
    },
    {
      "cell_type": "markdown",
      "metadata": {
        "id": "WisZK8T3zj_e"
      },
      "source": [
        "Загрузка файлов в Colab из GitHub\n",
        "\n",
        "---\n",
        "\n"
      ]
    },
    {
      "cell_type": "code",
      "metadata": {
        "id": "zmm1ofCFzhwx"
      },
      "source": [
        "url = 'copied_raw_GH_link'df1 = pd.read_csv(url)"
      ],
      "execution_count": null,
      "outputs": []
    },
    {
      "cell_type": "markdown",
      "metadata": {
        "id": "DM20pfN6ymob"
      },
      "source": [
        "Загрузка файлов в Colab с локального диска\n",
        "\n",
        "---\n",
        "\n"
      ]
    },
    {
      "cell_type": "code",
      "metadata": {
        "id": "7GwJhvv0ylnY"
      },
      "source": [
        "from google.colab import files\n",
        "uploaded = files.upload()\n",
        "\n",
        "df = pd.read_csv('wage-data.csv')"
      ],
      "execution_count": null,
      "outputs": []
    },
    {
      "cell_type": "markdown",
      "metadata": {
        "id": "62_EGkq_XGU8"
      },
      "source": [
        "Включение всплывающих команд в Jupiter с помощью Tab\n",
        "\n",
        "---\n",
        "\n"
      ]
    },
    {
      "cell_type": "code",
      "metadata": {
        "id": "OrcxHfPMXFL5"
      },
      "source": [
        "%config IPCompleter.greedy=True"
      ],
      "execution_count": null,
      "outputs": []
    },
    {
      "cell_type": "markdown",
      "metadata": {
        "id": "15WwFKhFOjea"
      },
      "source": [
        "Считывание данных в датафрейм из Google Drive\n",
        "\n",
        "---\n",
        "\n"
      ]
    },
    {
      "cell_type": "code",
      "metadata": {
        "id": "HPvpLUPtONtL"
      },
      "source": [
        "url = 'https://drive.google.com/file/d/1imxbb6tU7wTnR0q1eGmy6N1qpf4grKdV/view?usp=sharing' #ссылка на файл(в Drive нужно открыть доступ для просмотра)\n",
        "path = 'https://drive.google.com/uc?export=download&id='+url.split('/')[-2]\n",
        "pd.read_csv(path)"
      ],
      "execution_count": null,
      "outputs": []
    },
    {
      "cell_type": "markdown",
      "metadata": {
        "id": "uzvygHuREOAB"
      },
      "source": [
        "Выгрузка данных на гугл диск\n",
        "\n",
        "---\n",
        "\n"
      ]
    },
    {
      "cell_type": "code",
      "metadata": {
        "id": "Cny58jWfERpZ"
      },
      "source": [
        "from google.colab import drive\n",
        "drive.mount('drive')\n",
        "df1.to_csv('data.csv',sep=';',)\n",
        "!cp data.csv \"drive/My Drive/\""
      ],
      "execution_count": null,
      "outputs": []
    },
    {
      "cell_type": "markdown",
      "metadata": {
        "id": "KayXc1aFEmJT"
      },
      "source": [
        "Названия столбцов таблицы базы данных PostreSQL\n",
        "\n",
        "---\n",
        "\n"
      ]
    },
    {
      "cell_type": "code",
      "metadata": {
        "id": "MaZElsbnElem"
      },
      "source": [
        "print('test_task_billing:')\n",
        "cursor.execute('''select * from information_schema.columns \n",
        "where table_catalog = 'wazzup_data_mart' and  \n",
        "table_name = 'test_task_billing';''')\n",
        "for row in cursor:\n",
        "  print (row)"
      ],
      "execution_count": null,
      "outputs": []
    },
    {
      "cell_type": "markdown",
      "metadata": {
        "id": "JEhERweAFivM"
      },
      "source": [
        "Совместная работа Python и SQL\n",
        "\n",
        "---\n",
        "\n"
      ]
    },
    {
      "cell_type": "code",
      "metadata": {
        "id": "QnsbomGEFjAA"
      },
      "source": [
        "import psycopg2\n",
        "conn = psycopg2.connect(\n",
        "    host='rc1c-fhrb9f1e0l9g611h.mdb.yandexcloud.net', port='6432', database='hr-analytics',\n",
        "    user='analytics', password='HRanalytics')\n",
        "cursor = conn.cursor()\n",
        "cursor.execute('''\n",
        "SELECT * FROM table\n",
        "''')\n",
        "list1 = []\n",
        "for row in cursor:\n",
        "  list1.append(row)\n",
        "df1 = DataFrame(list1, columns = ['Месяц', 'Год', 'Выручка'])\n",
        "(df1)"
      ],
      "execution_count": null,
      "outputs": []
    },
    {
      "cell_type": "markdown",
      "metadata": {
        "id": "qaD5PsKOCqE7"
      },
      "source": [
        "Транслитерация:\n",
        "\n",
        "[Справочная информация на русском](https://docs-python.ru/packages/modul-transliterate-python/)\n",
        "\n",
        "[Справочная информация и ссылки на загрузку](https://pypi.org/project/transliterate/)\n",
        "\n",
        "---\n",
        "\n"
      ]
    }
  ]
}