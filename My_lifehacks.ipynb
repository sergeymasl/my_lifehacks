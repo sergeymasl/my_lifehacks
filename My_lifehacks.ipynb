{
  "nbformat": 4,
  "nbformat_minor": 0,
  "metadata": {
    "colab": {
      "name": "My_lifehacks",
      "provenance": [],
      "authorship_tag": "ABX9TyM9laQi1QvNw9Od6OMVeAVR",
      "include_colab_link": true
    },
    "kernelspec": {
      "name": "python3",
      "display_name": "Python 3"
    },
    "language_info": {
      "name": "python"
    }
  },
  "cells": [
    {
      "cell_type": "markdown",
      "metadata": {
        "id": "view-in-github",
        "colab_type": "text"
      },
      "source": [
        "<a href=\"https://colab.research.google.com/github/sergeymasl/my_lifehacks/blob/main/My_lifehacks.ipynb\" target=\"_parent\"><img src=\"https://colab.research.google.com/assets/colab-badge.svg\" alt=\"Open In Colab\"/></a>"
      ]
    },
    {
      "cell_type": "markdown",
      "metadata": {
        "id": "15WwFKhFOjea"
      },
      "source": [
        "Считывание данных в датафрейм из Google Drive"
      ]
    },
    {
      "cell_type": "code",
      "metadata": {
        "id": "HPvpLUPtONtL"
      },
      "source": [
        "url = 'https://drive.google.com/file/d/1imxbb6tU7wTnR0q1eGmy6N1qpf4grKdV/view?usp=sharing' #ссылка на файл(в Drive нужно открыть доступ для просмотра)\n",
        "path = 'https://drive.google.com/uc?export=download&id='+url.split('/')[-2]\n",
        "pd.read_csv(path)"
      ],
      "execution_count": null,
      "outputs": []
    },
    {
      "cell_type": "markdown",
      "metadata": {
        "id": "uzvygHuREOAB"
      },
      "source": [
        "Выгрузка данных на гугл диск"
      ]
    },
    {
      "cell_type": "code",
      "metadata": {
        "id": "Cny58jWfERpZ"
      },
      "source": [
        "from google.colab import drive\n",
        "drive.mount('drive')\n",
        "df1.to_csv('data.csv',sep=';',)\n",
        "!cp data.csv \"drive/My Drive/\""
      ],
      "execution_count": null,
      "outputs": []
    },
    {
      "cell_type": "markdown",
      "metadata": {
        "id": "KayXc1aFEmJT"
      },
      "source": [
        "Названия столбцов из PostreSQL"
      ]
    },
    {
      "cell_type": "code",
      "metadata": {
        "id": "MaZElsbnElem"
      },
      "source": [
        "print('test_task_billing:')\n",
        "cursor.execute('''select * from information_schema.columns \n",
        "where table_catalog = 'wazzup_data_mart' and  \n",
        "table_name = 'test_task_billing';''')\n",
        "for row in cursor:\n",
        "  print (row)"
      ],
      "execution_count": null,
      "outputs": []
    }
  ]
}