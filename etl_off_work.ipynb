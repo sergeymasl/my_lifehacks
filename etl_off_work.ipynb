{
  "nbformat": 4,
  "nbformat_minor": 0,
  "metadata": {
    "colab": {
      "name": "Untitled12.ipynb",
      "provenance": [],
      "authorship_tag": "ABX9TyM1YEshHrVtsIvWVqWnrEbt",
      "include_colab_link": true
    },
    "kernelspec": {
      "name": "python3",
      "display_name": "Python 3"
    },
    "language_info": {
      "name": "python"
    }
  },
  "cells": [
    {
      "cell_type": "markdown",
      "metadata": {
        "id": "view-in-github",
        "colab_type": "text"
      },
      "source": [
        "<a href=\"https://colab.research.google.com/github/sergeymasl/my_lifehacks/blob/main/etl_off_work.ipynb\" target=\"_parent\"><img src=\"https://colab.research.google.com/assets/colab-badge.svg\" alt=\"Open In Colab\"/></a>"
      ]
    },
    {
      "cell_type": "code",
      "execution_count": null,
      "metadata": {
        "id": "GGu65VB5qt8y"
      },
      "outputs": [],
      "source": [
        "#! pip install pyTelegramBotAPI\n",
        "import pandas as pd\n",
        "import numpy as np\n",
        "import datetime\n",
        "#import smtplib\n",
        "#from email.mime.text import MIMEText\n",
        "#from email.mime.multipart import MIMEMultipart\n",
        "import telebot\n",
        "import dataframe_image as dfi\n",
        "import os"
      ]
    },
    {
      "cell_type": "code",
      "source": [
        "def send_to_off_time_yes(df, description):\n",
        "    '''\n",
        "    Функция отправляет изображение датафрейма и описание в канал переработок\n",
        "    '''\n",
        "    # создание изображения датафрейма\n",
        "    g = dfi.export(df, 'dataframe.png')\n",
        "    # инициализация телебота\n",
        "    bot = telebot.TeleBot('5271411201:AAEFlg6hKq2tLKG1HjQe-PthAMKOqayfBxk')\n",
        "    # имя канала\n",
        "    channel_name = '-1001662096375'\n",
        "    # фото для отправки в бинарном виде\n",
        "    doc = open('dataframe.png', 'rb')\n",
        "    # отправка фото в канал\n",
        "    bot.send_photo(channel_name, doc, caption=description, parse_mode=\"html\")\n",
        "    # закрываем и удаляем файл\n",
        "    doc.close()\n",
        "    os.remove('dataframe.png')"
      ],
      "metadata": {
        "id": "7JZ8YvOMq-40"
      },
      "execution_count": null,
      "outputs": []
    },
    {
      "cell_type": "code",
      "source": [
        "def send_to_off_time_no(m_y):\n",
        "    '''\n",
        "    Функция отправляет сообщеине о  том что переработок нет\n",
        "    '''\n",
        "    # инициализация телебота\n",
        "    bot = telebot.TeleBot('5271411201:AAEFlg6hKq2tLKG1HjQe-PthAMKOqayfBxk')\n",
        "    # имя канала\n",
        "    channel_name = '-1001662096375'\n",
        "    # отправка сообщения в канал\n",
        "    bot.send_message(channel_name, text = f\"В этом месяце <b>({m_y})</b> нет переработок\", parse_mode=\"html\")"
      ],
      "metadata": {
        "id": "7JB5eAtfrFXL"
      },
      "execution_count": null,
      "outputs": []
    },
    {
      "cell_type": "code",
      "source": [
        "#def send_message(send):\n",
        "#    #создание объекта mime\n",
        "#    msg = MIMEMultipart()\n",
        "#    # создание самого сообщения\n",
        "#    part = MIMEText(send, 'html')\n",
        "#    # прикрепление сообщения к объекту mime\n",
        "#    msg.attach(part)\n",
        "#    # подключение к серверу электронной почты .mail \n",
        "#    smtpObj = smtplib.SMTP('smtp.mail.ru', 587)\n",
        "#    # шифрование\n",
        "#    smtpObj.starttls()\n",
        "#    # авторизация\n",
        "#    smtpObj.login('serezha_maslov@mail.ru','Sn5KnL5bMds7FhhNeRv9')\n",
        "#    # отправка сообщения\n",
        "#    smtpObj.sendmail('serezha_maslov@mail.ru', 'serezha_maslov@mail.ru', msg.as_string())\n",
        "#    smtpObj.quit()"
      ],
      "metadata": {
        "id": "epykxOSzrG9r"
      },
      "execution_count": null,
      "outputs": []
    },
    {
      "cell_type": "code",
      "source": [
        "# чтение файла\n",
        "df_work = pd.read_excel(r'C:\\Users\\nt_user\\Desktop\\Переработки.xlsx')\n",
        "# создание столбца с месяцем и годом\n",
        "df_work['m-y'] = df_work['Дата'].apply(lambda x: str(x.month) + '-' + str(x.year))"
      ],
      "metadata": {
        "id": "DezuhC34rH1z"
      },
      "execution_count": null,
      "outputs": []
    },
    {
      "cell_type": "code",
      "source": [
        "# создание переменных с текщим месяцм и текущим годом\n",
        "m_y_now = str(datetime.date.today().month) + '-' + str(datetime.date.today().year)"
      ],
      "metadata": {
        "id": "UMMrgm5trKIz"
      },
      "execution_count": null,
      "outputs": []
    },
    {
      "cell_type": "code",
      "source": [
        "# проверка на наличие переработок\n",
        "swith_off_time = False\n",
        "if m_y_now in df_work['m-y'].to_list():\n",
        "    swith_off_time = True\n",
        "\n",
        "# создание таблицы переработок за текущий месяц\n",
        "if swith_off_time:\n",
        "    df_off_time_cur = df_work[df_work['m-y'] == m_y_now]\n",
        "    df_off_time_cur.fillna('-',inplace=True)\n",
        "    df_for_send = df_off_time_cur.copy()\n",
        "\n",
        "# создание суммарного количества часов\n",
        "if swith_off_time:\n",
        "    timedelta_time_off = datetime.timedelta()\n",
        "    for i in df_off_time_cur.index:\n",
        "        hours_time_off = df_off_time_cur['Время переработки'][i].hour\n",
        "        minutes_time_off = df_off_time_cur['Время переработки'][i].minute\n",
        "        timedelta_time_off += datetime.timedelta(hours = hours_time_off, minutes = minutes_time_off)  \n",
        "\n",
        "    minutes_delta_time_off = timedelta_time_off.seconds / 60\n",
        "    hours_sum_time_off = int(minutes_delta_time_off // 60)\n",
        "    minutes_sum_time_off = int(minutes_delta_time_off % 60)\n",
        "    time_for_message = f'Общая сумма переработок в этом месяце (<b>{m_y_now}</b>): \\n<b>{hours_sum_time_off} часа {minutes_sum_time_off} минут</b>'\n",
        "\n",
        "\n",
        "# подготовка сообщения\n",
        "#if swith_off_time:\n",
        "#    send = f\"\"\"\\\n",
        "#        <html>\n",
        "#          <head></head>\n",
        "#          <body>\n",
        "#          <p>Пора проверить переработки</p>\n",
        "#          <p>{time_for_message}</p>\n",
        "#            {df_for_send.to_html()}\n",
        "#          </body>\n",
        "#        </html>\n",
        "#        \"\"\"\n",
        "#else:\n",
        "#    send = 'Проверять нехера. Ты в этом месяце не перерабатывал.'\n",
        "\n",
        "\n",
        "# отправка сообщения\n",
        "if swith_off_time:\n",
        "    send_to_off_time_yes(df_off_time_cur, time_for_message)\n",
        "else:\n",
        "    send_to_off_time_no(m_y_now)"
      ],
      "metadata": {
        "id": "2p6ZoJUirKtD"
      },
      "execution_count": null,
      "outputs": []
    },
    {
      "cell_type": "code",
      "source": [
        "#send_message(send)"
      ],
      "metadata": {
        "id": "wKkSrsqLrOQz"
      },
      "execution_count": null,
      "outputs": []
    }
  ]
}