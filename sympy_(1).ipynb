{
  "cells": [
    {
      "cell_type": "markdown",
      "metadata": {
        "id": "view-in-github",
        "colab_type": "text"
      },
      "source": [
        "<a href=\"https://colab.research.google.com/github/sergeymasl/my_lifehacks/blob/main/sympy_(1).ipynb\" target=\"_parent\"><img src=\"https://colab.research.google.com/assets/colab-badge.svg\" alt=\"Open In Colab\"/></a>"
      ]
    },
    {
      "cell_type": "code",
      "execution_count": 5,
      "id": "ba25f395",
      "metadata": {
        "id": "ba25f395"
      },
      "outputs": [],
      "source": [
        "from sympy import *\n",
        "init_printing(use_unicode = False, wrap_line = False, no_global = True)"
      ]
    },
    {
      "cell_type": "code",
      "source": [
        "from math import log"
      ],
      "metadata": {
        "id": "0gbwFwfHtpDO"
      },
      "id": "0gbwFwfHtpDO",
      "execution_count": null,
      "outputs": []
    },
    {
      "cell_type": "code",
      "source": [
        "sum_range = 0\n",
        "for i in range(1, int(input('Введите n:'))+1):\n",
        "  sum_range += log(i)\n",
        "print('Результат:', sum_range)"
      ],
      "metadata": {
        "colab": {
          "base_uri": "https://localhost:8080/"
        },
        "id": "GefD7L0ysM2T",
        "outputId": "02e879e5-7912-4fa3-fdc8-40d52085a9d5"
      },
      "id": "GefD7L0ysM2T",
      "execution_count": 17,
      "outputs": [
        {
          "output_type": "stream",
          "name": "stdout",
          "text": [
            "Введите n:2\n",
            "Результат: 0.6931471805599453\n"
          ]
        }
      ]
    },
    {
      "cell_type": "code",
      "source": [
        "mult_range = 1\n",
        "for i in range(1, int(input('Введите n:'))+1):\n",
        "  mult_range *= i\n",
        "mult_range = log(mult_range)\n",
        "print('Результат:', mult_range)"
      ],
      "metadata": {
        "colab": {
          "base_uri": "https://localhost:8080/"
        },
        "id": "Vh_51dmNtnuK",
        "outputId": "3604bd5c-beb4-4ab6-ef1c-3a4f68bb70ad"
      },
      "id": "Vh_51dmNtnuK",
      "execution_count": 21,
      "outputs": [
        {
          "output_type": "stream",
          "name": "stdout",
          "text": [
            "Введите n:2\n",
            "Результат: 0.6931471805599453\n"
          ]
        }
      ]
    },
    {
      "cell_type": "code",
      "source": [
        "if sum_range == mult_range:\n",
        "  print('True')"
      ],
      "metadata": {
        "colab": {
          "base_uri": "https://localhost:8080/"
        },
        "id": "JeKu7jXouvH0",
        "outputId": "5f91fbcd-f3c6-4631-c200-b37c45c007d8"
      },
      "id": "JeKu7jXouvH0",
      "execution_count": 22,
      "outputs": [
        {
          "output_type": "stream",
          "name": "stdout",
          "text": [
            "0.6931471805599453 0.6931471805599453\n",
            "True\n"
          ]
        }
      ]
    },
    {
      "cell_type": "code",
      "execution_count": null,
      "id": "a7fda651",
      "metadata": {
        "colab": {
          "base_uri": "https://localhost:8080/",
          "height": 38
        },
        "id": "a7fda651",
        "outputId": "6de1fd2e-73a4-4e86-afcc-28bb9351f396"
      },
      "outputs": [
        {
          "output_type": "execute_result",
          "data": {
            "image/png": "[encoded data removed]",
            "text/latex": "$\\displaystyle a + b + c + k + x + y$",
            "text/plain": [
              "a + b + c + k + x + y"
            ]
          },
          "metadata": {},
          "execution_count": 2
        }
      ],
      "source": [
        "#объявляем символьные переменные, используемые в заданиях\n",
        "x = Symbol('x')\n",
        "y = Symbol('y')\n",
        "a = Symbol('a')\n",
        "b = Symbol('b')\n",
        "c = Symbol('c')\n",
        "k = Symbol('k')\n",
        "#проверим объявление\n",
        "x+y+a+b+c+k"
      ]
    },
    {
      "cell_type": "code",
      "execution_count": null,
      "id": "a5a63278",
      "metadata": {
        "id": "a5a63278",
        "outputId": "03f08793-01eb-471a-ec68-6158af298ecd"
      },
      "outputs": [
        {
          "data": {
            "image/png": "[encoded data removed]",
            "text/latex": [
              "$\\displaystyle - 3 x \\left(\\frac{4 x}{3} + 4 y\\right) + \\left(2 x + 3 y\\right)^{2}$"
            ],
            "text/plain": [
              "      /4*x      \\              2\n",
              "- 3*x*|--- + 4*y| + (2*x + 3*y) \n",
              "      \\ 3       /               "
            ]
          },
          "execution_count": 21,
          "metadata": {},
          "output_type": "execute_result"
        }
      ],
      "source": [
        "#задание 1\n",
        "expression = (2*x + 3*y)**2 - 3*x*(4*x/3 + 4*y)\n",
        "expression"
      ]
    },
    {
      "cell_type": "code",
      "execution_count": null,
      "id": "f162a601",
      "metadata": {
        "id": "f162a601",
        "outputId": "3cb2d012-b053-438f-ee20-ac12000eb347"
      },
      "outputs": [
        {
          "data": {
            "image/png": "[encoded data removed]",
            "text/latex": [
              "$\\displaystyle 9 y^{2}$"
            ],
            "text/plain": [
              "   2\n",
              "9*y "
            ]
          },
          "execution_count": 22,
          "metadata": {},
          "output_type": "execute_result"
        }
      ],
      "source": [
        "simplify(expression)"
      ]
    }
  ],
  "metadata": {
    "kernelspec": {
      "display_name": "Python 3 (ipykernel)",
      "language": "python",
      "name": "python3"
    },
    "language_info": {
      "codemirror_mode": {
        "name": "ipython",
        "version": 3
      },
      "file_extension": ".py",
      "mimetype": "text/x-python",
      "name": "python",
      "nbconvert_exporter": "python",
      "pygments_lexer": "ipython3",
      "version": "3.10.1"
    },
    "colab": {
      "name": "sympy (1).ipynb",
      "provenance": [],
      "collapsed_sections": [],
      "include_colab_link": true
    }
  },
  "nbformat": 4,
  "nbformat_minor": 5
}