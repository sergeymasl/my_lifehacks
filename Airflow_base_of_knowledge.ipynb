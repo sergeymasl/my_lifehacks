{
  "nbformat": 4,
  "nbformat_minor": 0,
  "metadata": {
    "colab": {
      "provenance": [],
      "collapsed_sections": [],
      "authorship_tag": "ABX9TyN5vWl1Z2CDVStz9xy5n3bv",
      "include_colab_link": true
    },
    "kernelspec": {
      "name": "python3",
      "display_name": "Python 3"
    },
    "language_info": {
      "name": "python"
    }
  },
  "cells": [
    {
      "cell_type": "markdown",
      "metadata": {
        "id": "view-in-github",
        "colab_type": "text"
      },
      "source": [
        "<a href=\"https://colab.research.google.com/github/sergeymasl/my_lifehacks/blob/main/Airflow_base_of_knowledge.ipynb\" target=\"_parent\"><img src=\"https://colab.research.google.com/assets/colab-badge.svg\" alt=\"Open In Colab\"/></a>"
      ]
    },
    {
      "cell_type": "markdown",
      "source": [
        "#### Connections"
      ],
      "metadata": {
        "id": "mPDBvWGxf_Nk"
      }
    },
    {
      "cell_type": "markdown",
      "source": [
        "Connections представляют собой подключения к разным источникам данных, задаются они в веб интерфейсе, с указанием `conn_id`. Это `conn_id` в последствии можно вызвывать в тасках\n",
        "\n",
        "При необходимости к Connections можно получить к данному объекту мы можем обращаться как к обычному словарю.\n",
        "\n",
        "[ссылка](https://airflow.apache.org/docs/apache-airflow/stable/_api/airflow/hooks/base/index.html)\n",
        "\n",
        "```python\n",
        "# Пример доступа к переменной connection\n",
        "from airflow.hooks.base_hook import BaseHook\n",
        "host = BaseHook.get_connection(\"postgres_default\").host\n",
        "pass = BaseHook.get_connection(\"postgres_default\").password\n",
        "```"
      ],
      "metadata": {
        "id": "kPw5sH0vgC-j"
      }
    },
    {
      "cell_type": "markdown",
      "source": [
        "#### Variables"
      ],
      "metadata": {
        "id": "1Boae7t5iUt1"
      }
    },
    {
      "cell_type": "markdown",
      "source": [
        "Глобальные переменные которые также могут задаваться в веб интерфейсе.\n",
        "\n",
        "Доступ к переменным осуществляется через `key`.\n",
        "Глобальные переменные можно:\n",
        "- получать - `get`\n",
        "- записывать - `set`\n",
        "- обновлять - `update`\n",
        "- удалять - `delete`\n",
        "\n",
        "[ссылка](https://airflow.apache.org/docs/apache-airflow/stable/_api/airflow/models/variable/index.html)\n",
        "\n",
        "```python\n",
        "# Пример доступа к глобальной переменной\n",
        "from airflow.models import Variable\n",
        "foo = Variable.get(key = \"key\")\n",
        "# присер записи глобальной переменной\n",
        "a_dict = {'login' : con}\n",
        "Variable.set(key = 'test_key', value = a_dict, serialize_json = True)\n",
        "```"
      ],
      "metadata": {
        "id": "3_ATWn-JibmK"
      }
    }
  ]
}