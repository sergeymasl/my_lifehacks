{
  "nbformat": 4,
  "nbformat_minor": 0,
  "metadata": {
    "colab": {
      "provenance": [],
      "collapsed_sections": [],
      "authorship_tag": "ABX9TyPCSIZqzS2B+AwPfHxGgSye",
      "include_colab_link": true
    },
    "kernelspec": {
      "name": "python3",
      "display_name": "Python 3"
    },
    "language_info": {
      "name": "python"
    }
  },
  "cells": [
    {
      "cell_type": "markdown",
      "metadata": {
        "id": "view-in-github",
        "colab_type": "text"
      },
      "source": [
        "<a href=\"https://colab.research.google.com/github/sergeymasl/my_lifehacks/blob/main/Airflow_base_of_knowledge.ipynb\" target=\"_parent\"><img src=\"https://colab.research.google.com/assets/colab-badge.svg\" alt=\"Open In Colab\"/></a>"
      ]
    },
    {
      "cell_type": "markdown",
      "source": [
        "BaseOperators\n",
        "разбор кода BaseOperators с примерами как я делал для курса Pandas\n",
        "\n",
        "[link to BaseOperators](https://airflow.apache.org/docs/apache-airflow/stable/_api/airflow/models/baseoperator/index.html?highlight=baseoperator#airflow.models.baseoperator.BaseOperator)\n",
        "\n",
        "\n",
        "**отметить `on_failure_callback`**"
      ],
      "metadata": {
        "id": "2xJlEj8qq9GH"
      }
    },
    {
      "cell_type": "markdown",
      "source": [
        "#### Triger Rules"
      ],
      "metadata": {
        "id": "2eIeCYoeoXV_"
      }
    },
    {
      "cell_type": "markdown",
      "source": [
        "Triger rules - условие при котором начинаются выполняться tasks\n",
        "\n",
        "[link on trigger_rules](https://airflow.apache.org/docs/apache-airflow/stable/concepts/dags.html#trigger-rules)\n",
        "\n",
        "`trigger_rule` может быть указан в параметрах `dag` и тогда он будет применен ко всем операторам (если в операторах не будет прописано другое)\n",
        "\n",
        "Также параметр `trigger_rule` для каждого оператора\n",
        "\n",
        "Виды `trigger_rule`:\n",
        "- `all_success` (default) - все `tasks_parents` были **выполены успешно**\n",
        "- `all_failed` - все `tasks_parents` были **провалены**\n",
        "- `all_done` - запускает задачу после `upstream tasks` (`parents') были выполнены **вне зависимости от статуса** успешно, провалено или пропущено \n",
        "- `all_skipped` - все задачи были **пропущены**\n",
        "- `one_failed` - срабатывает **как только одна из задач** была **провалена**\n",
        "- `one_success` - срабатывает **как только одна из задач** была **успешна**\n",
        "- `none_failed` - срабатывает когда задачи `parents` были **успешны** или **пропущены**\n",
        "- `none_failed_min_one_success` - выполняется когда **ни одна из предыдущих** задач **не была провалена**, но **хотя бы одна** была **успешна**\n",
        "- `none_skipped` - срабатывает если не было **пропусков** предыдущих задач\n",
        "- `always` - никаких зависимостей задача может выполниться в любой момент"
      ],
      "metadata": {
        "id": "4xHdw5DAobk0"
      }
    },
    {
      "cell_type": "markdown",
      "source": [
        "#### Connections"
      ],
      "metadata": {
        "id": "mPDBvWGxf_Nk"
      }
    },
    {
      "cell_type": "markdown",
      "source": [
        "Connections представляют собой подключения к разным источникам данных, задаются они в веб интерфейсе, с указанием `conn_id`. Это `conn_id` в последствии можно вызвывать в тасках\n",
        "\n",
        "При необходимости к Connections можно получить к данному объекту мы можем обращаться как к обычному словарю.\n",
        "\n",
        "[link on connections](https://airflow.apache.org/docs/apache-airflow/stable/_api/airflow/hooks/base/index.html)\n",
        "\n",
        "```python\n",
        "# Пример доступа к переменной connection\n",
        "from airflow.hooks.base_hook import BaseHook\n",
        "host = BaseHook.get_connection(\"postgres_default\").host\n",
        "pass = BaseHook.get_connection(\"postgres_default\").password\n",
        "```"
      ],
      "metadata": {
        "id": "kPw5sH0vgC-j"
      }
    },
    {
      "cell_type": "markdown",
      "source": [
        "#### Variables"
      ],
      "metadata": {
        "id": "1Boae7t5iUt1"
      }
    },
    {
      "cell_type": "markdown",
      "source": [
        "Глобальные переменные которые также могут задаваться в веб интерфейсе.\n",
        "\n",
        "Доступ к переменным осуществляется через `key`.\n",
        "Глобальные переменные можно:\n",
        "- получать - `get`\n",
        "- записывать - `set`\n",
        "- обновлять - `update`\n",
        "- удалять - `delete`\n",
        "\n",
        "[link on variables](https://airflow.apache.org/docs/apache-airflow/stable/_api/airflow/models/variable/index.html)\n",
        "\n",
        "```python\n",
        "# Пример доступа к глобальной переменной\n",
        "from airflow.models import Variable\n",
        "foo = Variable.get(key = \"key\")\n",
        "# присер записи глобальной переменной\n",
        "a_dict = {'login' : con}\n",
        "Variable.set(key = 'test_key', value = a_dict, serialize_json = True)\n",
        "```"
      ],
      "metadata": {
        "id": "3_ATWn-JibmK"
      }
    }
  ]
}